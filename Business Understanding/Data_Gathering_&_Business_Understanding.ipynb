{
  "nbformat": 4,
  "nbformat_minor": 0,
  "metadata": {
    "colab": {
      "provenance": [],
      "authorship_tag": "ABX9TyPYj03JnLWOlwUv+32Kj4L5",
      "include_colab_link": true
    },
    "kernelspec": {
      "name": "python3",
      "display_name": "Python 3"
    },
    "language_info": {
      "name": "python"
    }
  },
  "cells": [
    {
      "cell_type": "markdown",
      "metadata": {
        "id": "view-in-github",
        "colab_type": "text"
      },
      "source": [
        "<a href=\"https://colab.research.google.com/github/dffasyhrndy/Data-Gathering-Business-Understanding/blob/main/Business%20Understanding/Data_Gathering_%26_Business_Understanding.ipynb\" target=\"_parent\"><img src=\"https://colab.research.google.com/assets/colab-badge.svg\" alt=\"Open In Colab\"/></a>"
      ]
    },
    {
      "cell_type": "markdown",
      "source": [
        "# **Data Gathering & Business Understanding**"
      ],
      "metadata": {
        "id": "dt9oUaJC5oIA"
      }
    },
    {
      "cell_type": "markdown",
      "source": [
        "## **Business Understanding**"
      ],
      "metadata": {
        "id": "Zv3KreZS57wj"
      }
    },
    {
      "cell_type": "markdown",
      "source": [
        "### **Business Objective**"
      ],
      "metadata": {
        "id": "vK2sb7mN6J6m"
      }
    },
    {
      "cell_type": "markdown",
      "source": [
        "Tujuan utama proyek ini adalah untuk menganalisis data performa siswa guna mengidentifikasi faktor-faktor kunci yang mempengaruhi keberhasilan akademik. Dengan memahami pengaruh variabel seperti nilai ujian, kehadiran, partisipasi dalam kegiatan ekstrakurikuler, dan latar belakang demografis, diharapkan lembaga pendidikan dapat mengembangkan strategi intervensi yang tepat untuk meningkatkan prestasi siswa dan mendukung keberhasilan belajar secara menyeluruh"
      ],
      "metadata": {
        "id": "ylwl3fAT65mi"
      }
    },
    {
      "cell_type": "markdown",
      "source": [
        "### **Assess Situation**"
      ],
      "metadata": {
        "id": "nlw6XWmd6_-u"
      }
    },
    {
      "cell_type": "markdown",
      "source": [
        "Lingkungan pendidikan saat ini menghadapi berbagai tantangan, mulai dari perbedaan latar belakang siswa hingga metode pengajaran yang bervariasi. Data yang telah dikumpulkan mencakup:\n",
        "\n",
        "- Nilai Akademik: Termasuk nilai ujian, tugas, dan proyek.\n",
        "- Kehadiran: Frekuensi kehadiran siswa di kelas.\n",
        "- Aktivitas Ekstrakurikuler: Keterlibatan siswa dalam kegiatan di luar kurikulum.\n",
        "- Profil Demografis: Informasi seperti usia, jenis kelamin, dan latar belakang sosial ekonomi.\n",
        "\n",
        "Analisis mendalam dari data ini akan membantu mengungkap tren dan pola yang berkontribusi pada kesuksesan atau tantangan dalam proses belajar mengajar, sehingga pihak sekolah dapat membuat kebijakan yang lebih adaptif dan berbasis data."
      ],
      "metadata": {
        "id": "JFAjH5B27P5n"
      }
    },
    {
      "cell_type": "markdown",
      "source": [
        "### **Data Mining Goals**"
      ],
      "metadata": {
        "id": "Bm_vfcos7exL"
      }
    },
    {
      "cell_type": "markdown",
      "source": [
        "1. Segmentasi Siswa:\n",
        "Mengelompokkan siswa berdasarkan performa, tingkat kehadiran, dan partisipasi aktivitas, sehingga strategi pembelajaran yang lebih personal dapat dikembangkan untuk tiap kelompok.\n",
        "\n",
        "2. Prediksi Performa Akademik:\n",
        "Mengembangkan model prediksi untuk mengantisipasi penurunan atau peningkatan prestasi siswa, sehingga intervensi dini dapat dilakukan secara tepat waktu.\n",
        "\n",
        "3. Identifikasi Faktor Kunci:\n",
        "Menemukan variabel mana yang memiliki pengaruh paling signifikan terhadap performa akademik, seperti korelasi antara kehadiran dengan nilai atau dampak partisipasi ekstrakurikuler terhadap prestasi.\n",
        "\n",
        "4. Rekomendasi Intervensi:\n",
        "Menghasilkan rekomendasi berbasis data untuk pihak sekolah guna meningkatkan metode pembelajaran dan dukungan akademik, termasuk program pendampingan bagi siswa yang berisiko mengalami penurunan performa."
      ],
      "metadata": {
        "id": "nU7-mLvi7ovJ"
      }
    },
    {
      "cell_type": "markdown",
      "source": [
        "### **Project Plan**"
      ],
      "metadata": {
        "id": "E7N9PjTq8-bq"
      }
    },
    {
      "cell_type": "markdown",
      "source": [
        "1. Pengumpulan Data:\n",
        "- Mengumpulkan data nilai ujian, tugas, dan proyek dari sistem informasi sekolah.\n",
        "- Merekam data kehadiran, partisipasi ekstrakurikuler, dan informasi demografis siswa.\n",
        "- Menjamin kualitas data dengan memastikan keakuratan dan kelengkapan data yang diambil.\n",
        "\n",
        "2. Pembersihan & Pemrosesan Data:\n",
        "- Menghapus duplikasi, menangani nilai yang hilang, dan mengkonsolidasikan data dari berbagai sumber.\n",
        "- Normalisasi data agar siap dianalisis, misalnya dengan mengubah nilai ke dalam skala yang konsisten.\n",
        "- Membagi data menjadi set pelatihan dan pengujian untuk keperluan pengembangan model prediktif.\n",
        "\n",
        "3. Analisis & Pemodelan Data:\n",
        "- Melakukan eksplorasi data (EDA) untuk memahami distribusi, korelasi, dan tren yang ada.\n",
        "- Menerapkan teknik machine learning seperti decision tree, clustering, atau regresi untuk segmentasi dan prediksi performa.\n",
        "\n",
        "4. Evaluasi & Implementasi:\n",
        "\n",
        "- Mengevaluasi hasil model dan validasi dengan data nyata.\n",
        "- Mengintegrasikan temuan analisis ke dalam sistem pendukung keputusan sekolah, misalnya melalui dashboard monitoring siswa.\n"
      ],
      "metadata": {
        "id": "6Wb5STHq9FHP"
      }
    }
  ]
}